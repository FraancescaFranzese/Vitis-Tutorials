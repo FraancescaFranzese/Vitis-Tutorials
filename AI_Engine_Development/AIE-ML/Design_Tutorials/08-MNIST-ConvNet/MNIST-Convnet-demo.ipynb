{
 "cells": [
  {
   "cell_type": "markdown",
   "id": "d4988205-f49f-4031-8e46-302fb5b7319f",
   "metadata": {},
   "source": [
    "# MNIST ConvNet on AIE-ML"
   ]
  },
  {
   "cell_type": "code",
   "execution_count": null,
   "id": "72651b6d-2d3b-486a-ac67-89d960b9c1bd",
   "metadata": {},
   "outputs": [],
   "source": [
    "#\n",
    "# Copyright (C) 2024, Advanced Micro Devices, Inc. All rights reserved.\n",
    "# SPDX-License-Identifier: MIT\n",
    "#\n",
    "# Author: Mark Rollins"
   ]
  },
  {
   "cell_type": "code",
   "execution_count": 1,
   "id": "81f6f7c8-56aa-44da-98d2-74898131c6b5",
   "metadata": {},
   "outputs": [
    {
     "name": "stderr",
     "output_type": "stream",
     "text": [
      "2024-10-07 15:25:20.407567: I external/local_xla/xla/tsl/cuda/cudart_stub.cc:32] Could not find cuda drivers on your machine, GPU will not be used.\n",
      "2024-10-07 15:25:20.410318: I external/local_xla/xla/tsl/cuda/cudart_stub.cc:32] Could not find cuda drivers on your machine, GPU will not be used.\n",
      "2024-10-07 15:25:20.417351: E external/local_xla/xla/stream_executor/cuda/cuda_fft.cc:485] Unable to register cuFFT factory: Attempting to register factory for plugin cuFFT when one has already been registered\n",
      "2024-10-07 15:25:20.427742: E external/local_xla/xla/stream_executor/cuda/cuda_dnn.cc:8454] Unable to register cuDNN factory: Attempting to register factory for plugin cuDNN when one has already been registered\n",
      "2024-10-07 15:25:20.430861: E external/local_xla/xla/stream_executor/cuda/cuda_blas.cc:1452] Unable to register cuBLAS factory: Attempting to register factory for plugin cuBLAS when one has already been registered\n",
      "2024-10-07 15:25:20.440521: I tensorflow/core/platform/cpu_feature_guard.cc:210] This TensorFlow binary is optimized to use available CPU instructions in performance-critical operations.\n",
      "To enable the following instructions: AVX2 FMA, in other operations, rebuild TensorFlow with the appropriate compiler flags.\n",
      "2024-10-07 15:25:21.770691: W tensorflow/compiler/tf2tensorrt/utils/py_utils.cc:38] TF-TRT Warning: Could not find TensorRT\n"
     ]
    }
   ],
   "source": [
    "from tensorflow import keras\n",
    "from tensorflow.keras import layers\n",
    "from tensorflow.keras.datasets import mnist\n",
    "import matplotlib.pyplot as plt\n",
    "from tensorflow.keras import mixed_precision\n",
    "import numpy as np"
   ]
  },
  {
   "cell_type": "markdown",
   "id": "32352f9b-831e-4f07-b830-0436ac073de7",
   "metadata": {},
   "source": [
    "## Define Network Model"
   ]
  },
  {
   "cell_type": "code",
   "execution_count": 2,
   "id": "4d2023da-9cfa-43a0-89d0-de0b62392fd5",
   "metadata": {},
   "outputs": [],
   "source": [
    "inputs = keras.Input(shape=(28,28,1),name=\"input\")\n",
    "x1 = layers.Conv2D(filters=16,kernel_size=3,activation=\"relu\",name=\"conv2d_w1\")(inputs)\n",
    "x2 = layers.MaxPooling2D(pool_size=2,name=\"max_pooling2d_w2\")(x1)\n",
    "x3 = layers.Conv2D(filters=64,kernel_size=3,activation=\"relu\",name=\"conv2d_w3\")(x2)\n",
    "x4 = layers.MaxPooling2D(pool_size=2,name=\"max_pooling2d_w4\")(x3)\n",
    "x5 = layers.Conv2D(filters=128,kernel_size=3,activation=\"relu\",name=\"conv2d_w5\")(x4)\n",
    "x6 = layers.Flatten(name=\"flatten_w6\")(x5)\n",
    "outputs = layers.Dense(10,activation=\"softmax\",name=\"dense_w7\")(x6)\n",
    "model = keras.Model(inputs=inputs,outputs=outputs)\n",
    "model.compile(optimizer=\"rmsprop\",\n",
    "              loss=\"sparse_categorical_crossentropy\",\n",
    "              metrics=[\"accuracy\"])"
   ]
  },
  {
   "cell_type": "code",
   "execution_count": 3,
   "id": "d11f6a79-62f8-44d0-8b4b-0bf7c2ef4be1",
   "metadata": {},
   "outputs": [
    {
     "data": {
      "text/html": [
       "<pre style=\"white-space:pre;overflow-x:auto;line-height:normal;font-family:Menlo,'DejaVu Sans Mono',consolas,'Courier New',monospace\"><span style=\"font-weight: bold\">Model: \"functional\"</span>\n",
       "</pre>\n"
      ],
      "text/plain": [
       "\u001b[1mModel: \"functional\"\u001b[0m\n"
      ]
     },
     "metadata": {},
     "output_type": "display_data"
    },
    {
     "data": {
      "text/html": [
       "<pre style=\"white-space:pre;overflow-x:auto;line-height:normal;font-family:Menlo,'DejaVu Sans Mono',consolas,'Courier New',monospace\">┏━━━━━━━━━━━━━━━━━━━━━━━━━━━━━━━━━┳━━━━━━━━━━━━━━━━━━━━━━━━┳━━━━━━━━━━━━━━━┓\n",
       "┃<span style=\"font-weight: bold\"> Layer (type)                    </span>┃<span style=\"font-weight: bold\"> Output Shape           </span>┃<span style=\"font-weight: bold\">       Param # </span>┃\n",
       "┡━━━━━━━━━━━━━━━━━━━━━━━━━━━━━━━━━╇━━━━━━━━━━━━━━━━━━━━━━━━╇━━━━━━━━━━━━━━━┩\n",
       "│ input (<span style=\"color: #0087ff; text-decoration-color: #0087ff\">InputLayer</span>)              │ (<span style=\"color: #00d7ff; text-decoration-color: #00d7ff\">None</span>, <span style=\"color: #00af00; text-decoration-color: #00af00\">28</span>, <span style=\"color: #00af00; text-decoration-color: #00af00\">28</span>, <span style=\"color: #00af00; text-decoration-color: #00af00\">1</span>)      │             <span style=\"color: #00af00; text-decoration-color: #00af00\">0</span> │\n",
       "├─────────────────────────────────┼────────────────────────┼───────────────┤\n",
       "│ conv2d_w1 (<span style=\"color: #0087ff; text-decoration-color: #0087ff\">Conv2D</span>)              │ (<span style=\"color: #00d7ff; text-decoration-color: #00d7ff\">None</span>, <span style=\"color: #00af00; text-decoration-color: #00af00\">26</span>, <span style=\"color: #00af00; text-decoration-color: #00af00\">26</span>, <span style=\"color: #00af00; text-decoration-color: #00af00\">16</span>)     │           <span style=\"color: #00af00; text-decoration-color: #00af00\">160</span> │\n",
       "├─────────────────────────────────┼────────────────────────┼───────────────┤\n",
       "│ max_pooling2d_w2 (<span style=\"color: #0087ff; text-decoration-color: #0087ff\">MaxPooling2D</span>) │ (<span style=\"color: #00d7ff; text-decoration-color: #00d7ff\">None</span>, <span style=\"color: #00af00; text-decoration-color: #00af00\">13</span>, <span style=\"color: #00af00; text-decoration-color: #00af00\">13</span>, <span style=\"color: #00af00; text-decoration-color: #00af00\">16</span>)     │             <span style=\"color: #00af00; text-decoration-color: #00af00\">0</span> │\n",
       "├─────────────────────────────────┼────────────────────────┼───────────────┤\n",
       "│ conv2d_w3 (<span style=\"color: #0087ff; text-decoration-color: #0087ff\">Conv2D</span>)              │ (<span style=\"color: #00d7ff; text-decoration-color: #00d7ff\">None</span>, <span style=\"color: #00af00; text-decoration-color: #00af00\">11</span>, <span style=\"color: #00af00; text-decoration-color: #00af00\">11</span>, <span style=\"color: #00af00; text-decoration-color: #00af00\">64</span>)     │         <span style=\"color: #00af00; text-decoration-color: #00af00\">9,280</span> │\n",
       "├─────────────────────────────────┼────────────────────────┼───────────────┤\n",
       "│ max_pooling2d_w4 (<span style=\"color: #0087ff; text-decoration-color: #0087ff\">MaxPooling2D</span>) │ (<span style=\"color: #00d7ff; text-decoration-color: #00d7ff\">None</span>, <span style=\"color: #00af00; text-decoration-color: #00af00\">5</span>, <span style=\"color: #00af00; text-decoration-color: #00af00\">5</span>, <span style=\"color: #00af00; text-decoration-color: #00af00\">64</span>)       │             <span style=\"color: #00af00; text-decoration-color: #00af00\">0</span> │\n",
       "├─────────────────────────────────┼────────────────────────┼───────────────┤\n",
       "│ conv2d_w5 (<span style=\"color: #0087ff; text-decoration-color: #0087ff\">Conv2D</span>)              │ (<span style=\"color: #00d7ff; text-decoration-color: #00d7ff\">None</span>, <span style=\"color: #00af00; text-decoration-color: #00af00\">3</span>, <span style=\"color: #00af00; text-decoration-color: #00af00\">3</span>, <span style=\"color: #00af00; text-decoration-color: #00af00\">128</span>)      │        <span style=\"color: #00af00; text-decoration-color: #00af00\">73,856</span> │\n",
       "├─────────────────────────────────┼────────────────────────┼───────────────┤\n",
       "│ flatten_w6 (<span style=\"color: #0087ff; text-decoration-color: #0087ff\">Flatten</span>)            │ (<span style=\"color: #00d7ff; text-decoration-color: #00d7ff\">None</span>, <span style=\"color: #00af00; text-decoration-color: #00af00\">1152</span>)           │             <span style=\"color: #00af00; text-decoration-color: #00af00\">0</span> │\n",
       "├─────────────────────────────────┼────────────────────────┼───────────────┤\n",
       "│ dense_w7 (<span style=\"color: #0087ff; text-decoration-color: #0087ff\">Dense</span>)                │ (<span style=\"color: #00d7ff; text-decoration-color: #00d7ff\">None</span>, <span style=\"color: #00af00; text-decoration-color: #00af00\">10</span>)             │        <span style=\"color: #00af00; text-decoration-color: #00af00\">11,530</span> │\n",
       "└─────────────────────────────────┴────────────────────────┴───────────────┘\n",
       "</pre>\n"
      ],
      "text/plain": [
       "┏━━━━━━━━━━━━━━━━━━━━━━━━━━━━━━━━━┳━━━━━━━━━━━━━━━━━━━━━━━━┳━━━━━━━━━━━━━━━┓\n",
       "┃\u001b[1m \u001b[0m\u001b[1mLayer (type)                   \u001b[0m\u001b[1m \u001b[0m┃\u001b[1m \u001b[0m\u001b[1mOutput Shape          \u001b[0m\u001b[1m \u001b[0m┃\u001b[1m \u001b[0m\u001b[1m      Param #\u001b[0m\u001b[1m \u001b[0m┃\n",
       "┡━━━━━━━━━━━━━━━━━━━━━━━━━━━━━━━━━╇━━━━━━━━━━━━━━━━━━━━━━━━╇━━━━━━━━━━━━━━━┩\n",
       "│ input (\u001b[38;5;33mInputLayer\u001b[0m)              │ (\u001b[38;5;45mNone\u001b[0m, \u001b[38;5;34m28\u001b[0m, \u001b[38;5;34m28\u001b[0m, \u001b[38;5;34m1\u001b[0m)      │             \u001b[38;5;34m0\u001b[0m │\n",
       "├─────────────────────────────────┼────────────────────────┼───────────────┤\n",
       "│ conv2d_w1 (\u001b[38;5;33mConv2D\u001b[0m)              │ (\u001b[38;5;45mNone\u001b[0m, \u001b[38;5;34m26\u001b[0m, \u001b[38;5;34m26\u001b[0m, \u001b[38;5;34m16\u001b[0m)     │           \u001b[38;5;34m160\u001b[0m │\n",
       "├─────────────────────────────────┼────────────────────────┼───────────────┤\n",
       "│ max_pooling2d_w2 (\u001b[38;5;33mMaxPooling2D\u001b[0m) │ (\u001b[38;5;45mNone\u001b[0m, \u001b[38;5;34m13\u001b[0m, \u001b[38;5;34m13\u001b[0m, \u001b[38;5;34m16\u001b[0m)     │             \u001b[38;5;34m0\u001b[0m │\n",
       "├─────────────────────────────────┼────────────────────────┼───────────────┤\n",
       "│ conv2d_w3 (\u001b[38;5;33mConv2D\u001b[0m)              │ (\u001b[38;5;45mNone\u001b[0m, \u001b[38;5;34m11\u001b[0m, \u001b[38;5;34m11\u001b[0m, \u001b[38;5;34m64\u001b[0m)     │         \u001b[38;5;34m9,280\u001b[0m │\n",
       "├─────────────────────────────────┼────────────────────────┼───────────────┤\n",
       "│ max_pooling2d_w4 (\u001b[38;5;33mMaxPooling2D\u001b[0m) │ (\u001b[38;5;45mNone\u001b[0m, \u001b[38;5;34m5\u001b[0m, \u001b[38;5;34m5\u001b[0m, \u001b[38;5;34m64\u001b[0m)       │             \u001b[38;5;34m0\u001b[0m │\n",
       "├─────────────────────────────────┼────────────────────────┼───────────────┤\n",
       "│ conv2d_w5 (\u001b[38;5;33mConv2D\u001b[0m)              │ (\u001b[38;5;45mNone\u001b[0m, \u001b[38;5;34m3\u001b[0m, \u001b[38;5;34m3\u001b[0m, \u001b[38;5;34m128\u001b[0m)      │        \u001b[38;5;34m73,856\u001b[0m │\n",
       "├─────────────────────────────────┼────────────────────────┼───────────────┤\n",
       "│ flatten_w6 (\u001b[38;5;33mFlatten\u001b[0m)            │ (\u001b[38;5;45mNone\u001b[0m, \u001b[38;5;34m1152\u001b[0m)           │             \u001b[38;5;34m0\u001b[0m │\n",
       "├─────────────────────────────────┼────────────────────────┼───────────────┤\n",
       "│ dense_w7 (\u001b[38;5;33mDense\u001b[0m)                │ (\u001b[38;5;45mNone\u001b[0m, \u001b[38;5;34m10\u001b[0m)             │        \u001b[38;5;34m11,530\u001b[0m │\n",
       "└─────────────────────────────────┴────────────────────────┴───────────────┘\n"
      ]
     },
     "metadata": {},
     "output_type": "display_data"
    },
    {
     "data": {
      "text/html": [
       "<pre style=\"white-space:pre;overflow-x:auto;line-height:normal;font-family:Menlo,'DejaVu Sans Mono',consolas,'Courier New',monospace\"><span style=\"font-weight: bold\"> Total params: </span><span style=\"color: #00af00; text-decoration-color: #00af00\">94,826</span> (370.41 KB)\n",
       "</pre>\n"
      ],
      "text/plain": [
       "\u001b[1m Total params: \u001b[0m\u001b[38;5;34m94,826\u001b[0m (370.41 KB)\n"
      ]
     },
     "metadata": {},
     "output_type": "display_data"
    },
    {
     "data": {
      "text/html": [
       "<pre style=\"white-space:pre;overflow-x:auto;line-height:normal;font-family:Menlo,'DejaVu Sans Mono',consolas,'Courier New',monospace\"><span style=\"font-weight: bold\"> Trainable params: </span><span style=\"color: #00af00; text-decoration-color: #00af00\">94,826</span> (370.41 KB)\n",
       "</pre>\n"
      ],
      "text/plain": [
       "\u001b[1m Trainable params: \u001b[0m\u001b[38;5;34m94,826\u001b[0m (370.41 KB)\n"
      ]
     },
     "metadata": {},
     "output_type": "display_data"
    },
    {
     "data": {
      "text/html": [
       "<pre style=\"white-space:pre;overflow-x:auto;line-height:normal;font-family:Menlo,'DejaVu Sans Mono',consolas,'Courier New',monospace\"><span style=\"font-weight: bold\"> Non-trainable params: </span><span style=\"color: #00af00; text-decoration-color: #00af00\">0</span> (0.00 B)\n",
       "</pre>\n"
      ],
      "text/plain": [
       "\u001b[1m Non-trainable params: \u001b[0m\u001b[38;5;34m0\u001b[0m (0.00 B)\n"
      ]
     },
     "metadata": {},
     "output_type": "display_data"
    }
   ],
   "source": [
    "model.summary()"
   ]
  },
  {
   "cell_type": "markdown",
   "id": "7bf6bd7c-aa02-44a1-9ee7-c9f223b6455d",
   "metadata": {},
   "source": [
    "## Import MNIST Images\n",
    "\n",
    "The hand-written digits originate in the MNIST database distributed with the Keras framework. \n",
    "The monochromatic images are 28 x 28 with `uint8` data type. \n",
    "The training data set has 60,000 images.\n",
    "The test data set has 10,000 images."
   ]
  },
  {
   "cell_type": "code",
   "execution_count": 4,
   "id": "40a867d6-cb82-4c35-81c9-4f0fe2407902",
   "metadata": {},
   "outputs": [
    {
     "data": {
      "image/png": "[encoded data removed]",
      "text/plain": [
       "<Figure size 640x480 with 8 Axes>"
      ]
     },
     "metadata": {},
     "output_type": "display_data"
    }
   ],
   "source": [
    "# Set batch size and # of batches\n",
    "BS=16\n",
    "NB_trn = 3750\n",
    "NB_tst = 512\n",
    "# Load MNIST database:\n",
    "(trn_images,trn_labels), (tst_images,tst_labels) = mnist.load_data()\n",
    "trn_images = trn_images.reshape((60000,28,28,1))\n",
    "trn_images = trn_images[:NB_trn*BS,:,:,:]\n",
    "tst_images = tst_images.reshape((10000,28,28,1))\n",
    "# Extract usable data:\n",
    "tst_images = tst_images[:NB_tst*BS,:,:,:]\n",
    "trn_labels = trn_labels[:NB_trn*BS]\n",
    "tst_labels = tst_labels[:NB_tst*BS]\n",
    "fig,ax = plt.subplots(nrows=2,ncols=4)\n",
    "for rr in range(2):\n",
    "    for cc in range(4):\n",
    "        ax[rr,cc].imshow(trn_images[4*rr+cc],cmap=plt.cm.binary)"
   ]
  },
  {
   "cell_type": "markdown",
   "id": "6de57656-e378-4546-8ac2-91f4e3855637",
   "metadata": {},
   "source": [
    "## Convert Image Data\n",
    "Image input data is converted from `uint8` to `float32` for network training. "
   ]
  },
  {
   "cell_type": "code",
   "execution_count": 5,
   "id": "202f277a-c76d-4972-b854-ad375e488f6f",
   "metadata": {},
   "outputs": [],
   "source": [
    "trn_images = trn_images.astype(\"float32\") / 255\n",
    "tst_images = tst_images.astype(\"float32\") / 255"
   ]
  },
  {
   "cell_type": "markdown",
   "id": "a06d9544-60a7-4d45-9f5e-c0dfb18d9363",
   "metadata": {},
   "source": [
    "## Train the ConvNet Model"
   ]
  },
  {
   "cell_type": "code",
   "execution_count": 6,
   "id": "7aacb33f-32b5-464e-9cf6-934dafd8f76a",
   "metadata": {},
   "outputs": [
    {
     "name": "stdout",
     "output_type": "stream",
     "text": [
      "Epoch 1/5\n",
      "\u001b[1m3750/3750\u001b[0m \u001b[32m━━━━━━━━━━━━━━━━━━━━\u001b[0m\u001b[37m\u001b[0m \u001b[1m14s\u001b[0m 4ms/step - accuracy: 0.9166 - loss: 0.2682\n",
      "Epoch 2/5\n",
      "\u001b[1m3750/3750\u001b[0m \u001b[32m━━━━━━━━━━━━━━━━━━━━\u001b[0m\u001b[37m\u001b[0m \u001b[1m13s\u001b[0m 4ms/step - accuracy: 0.9863 - loss: 0.0432\n",
      "Epoch 3/5\n",
      "\u001b[1m3750/3750\u001b[0m \u001b[32m━━━━━━━━━━━━━━━━━━━━\u001b[0m\u001b[37m\u001b[0m \u001b[1m13s\u001b[0m 3ms/step - accuracy: 0.9912 - loss: 0.0289\n",
      "Epoch 4/5\n",
      "\u001b[1m3750/3750\u001b[0m \u001b[32m━━━━━━━━━━━━━━━━━━━━\u001b[0m\u001b[37m\u001b[0m \u001b[1m13s\u001b[0m 4ms/step - accuracy: 0.9929 - loss: 0.0236\n",
      "Epoch 5/5\n",
      "\u001b[1m3750/3750\u001b[0m \u001b[32m━━━━━━━━━━━━━━━━━━━━\u001b[0m\u001b[37m\u001b[0m \u001b[1m13s\u001b[0m 4ms/step - accuracy: 0.9943 - loss: 0.0194\n"
     ]
    }
   ],
   "source": [
    "hist = model.fit(trn_images,trn_labels,epochs=5,batch_size=BS)"
   ]
  },
  {
   "cell_type": "code",
   "execution_count": 7,
   "id": "1d7bb9cc-0f94-438c-b721-523d5040c471",
   "metadata": {
    "scrolled": true
   },
   "outputs": [
    {
     "data": {
      "image/png": "[encoded data removed]",
      "text/plain": [
       "<Figure size 640x480 with 2 Axes>"
      ]
     },
     "metadata": {},
     "output_type": "display_data"
    }
   ],
   "source": [
    "hist_dict = hist.history\n",
    "hist_dict.keys()\n",
    "loss_val = hist_dict[\"loss\"]\n",
    "acc_val = hist_dict[\"accuracy\"]\n",
    "epochs = range(1,len(loss_val)+1)\n",
    "fig,ax = plt.subplots(nrows=1,ncols=2)\n",
    "ax[0].plot(epochs,loss_val,\"ro-\",label=\"Training Loss\")\n",
    "ax[1].plot(epochs,acc_val,\"bo-\",label=\"Training Accuracy\")\n",
    "ax[0].set(xlabel=\"Epochs\",ylabel=\"Loss\",title=\"Training Loss\")\n",
    "ax[1].set(xlabel=\"Epochs\",ylabel=\"Accuracy\",title=\"Training Accuracy\")\n",
    "plt.show()"
   ]
  },
  {
   "cell_type": "markdown",
   "id": "f3f14235-7556-40e7-ad5f-69778c1240a8",
   "metadata": {},
   "source": [
    "## Evaluate The ConvNet on Test Data"
   ]
  },
  {
   "cell_type": "code",
   "execution_count": 8,
   "id": "78adf183-d35b-4c14-b03f-9603540d51d6",
   "metadata": {},
   "outputs": [
    {
     "name": "stdout",
     "output_type": "stream",
     "text": [
      "\u001b[1m512/512\u001b[0m \u001b[32m━━━━━━━━━━━━━━━━━━━━\u001b[0m\u001b[37m\u001b[0m \u001b[1m1s\u001b[0m 1ms/step - accuracy: 0.9899 - loss: 0.0398\n",
      "Test accuracy: 0.992\n"
     ]
    }
   ],
   "source": [
    "test_loss, test_acc = model.evaluate(tst_images,tst_labels,batch_size=BS)\n",
    "print(f\"Test accuracy: {test_acc:.3f}\")"
   ]
  },
  {
   "cell_type": "markdown",
   "id": "c0dfe545-16e5-40ff-b989-8bd0e917928b",
   "metadata": {},
   "source": [
    "## Predict Test Data"
   ]
  },
  {
   "cell_type": "code",
   "execution_count": 9,
   "id": "bdbcb675-5074-411f-9e97-60ceea5c0d4e",
   "metadata": {
    "scrolled": true
   },
   "outputs": [
    {
     "name": "stdout",
     "output_type": "stream",
     "text": [
      "\u001b[1m512/512\u001b[0m \u001b[32m━━━━━━━━━━━━━━━━━━━━\u001b[0m\u001b[37m\u001b[0m \u001b[1m1s\u001b[0m 2ms/step\n"
     ]
    },
    {
     "data": {
      "image/png": "[encoded data removed]",
      "text/plain": [
       "<Figure size 640x480 with 4 Axes>"
      ]
     },
     "metadata": {},
     "output_type": "display_data"
    }
   ],
   "source": [
    "predict = model.predict(tst_images,batch_size=BS)\n",
    "predict[0]\n",
    "fig,ax = plt.subplots(nrows=1,ncols=4)\n",
    "for ii in range(4):\n",
    "    idx = np.argmax(predict[ii])\n",
    "    ax[ii].imshow(tst_images[ii],cmap=plt.cm.binary)\n",
    "    ax[ii].set(title=\"Act: \"+str(idx))"
   ]
  },
  {
   "cell_type": "markdown",
   "id": "b58e7683-0549-483c-88c9-5a8ec1e77aa8",
   "metadata": {},
   "source": [
    "## Extract Taps & Biases"
   ]
  },
  {
   "cell_type": "code",
   "execution_count": 10,
   "id": "8a810a06-27c7-4cf9-b80a-470d1302355d",
   "metadata": {},
   "outputs": [
    {
     "name": "stdout",
     "output_type": "stream",
     "text": [
      "w1 taps shape:  (3, 3, 1, 16) \t\t# bias:  16 \t# params:  160\n",
      "w3 taps shape:  (3, 3, 16, 64) \t\t# bias:  64 \t# params:  9280\n",
      "w5 taps shape:  (3, 3, 64, 128) \t# bias:  128 \t# params:  73856\n",
      "w7 taps shape:  (1152, 10) \t\t# bias:  10 \t# params:  11530\n"
     ]
    }
   ],
   "source": [
    "# Get the model weights from each layer:\n",
    "w1 = model.get_layer(index=1).get_weights()\n",
    "w3 = model.get_layer(index=3).get_weights()\n",
    "w5 = model.get_layer(index=5).get_weights()\n",
    "w7 = model.get_layer(index=7).get_weights()\n",
    "# Extract taps and bias separately:\n",
    "w1_taps = w1[0]\n",
    "w3_taps = w3[0]\n",
    "w5_taps = w5[0]\n",
    "w7_taps = w7[0]\n",
    "w1_bias = w1[1]\n",
    "w3_bias = w3[1]\n",
    "w5_bias = w5[1]\n",
    "w7_bias = w7[1]\n",
    "# Dump dimensions of taps and bias:\n",
    "print(\"w1 taps shape: \",w1_taps.shape, \"\\t\\t# bias: \",len(w1_bias), \"\\t# params: \",np.prod(w1_taps.shape)+len(w1_bias))\n",
    "print(\"w3 taps shape: \",w3_taps.shape, \"\\t\\t# bias: \",len(w3_bias), \"\\t# params: \",np.prod(w3_taps.shape)+len(w3_bias))\n",
    "print(\"w5 taps shape: \",w5_taps.shape, \"\\t# bias: \",len(w5_bias), \"\\t# params: \",np.prod(w5_taps.shape)+len(w5_bias))\n",
    "print(\"w7 taps shape: \",w7_taps.shape, \"\\t\\t# bias: \",len(w7_bias), \"\\t# params: \",np.prod(w7_taps.shape)+len(w7_bias))\n",
    "w_all = model.get_weights()\n",
    "np.savetxt('aie/conv2d_w1/taps_trained.txt',np.reshape(w_all[0].astype(\"bfloat16\"),(-1,1)),fmt=\"%f\")\n",
    "np.savetxt('aie/conv2d_w1/bias_trained.txt',np.reshape(w_all[1].astype(\"bfloat16\"),(-1,1)),fmt=\"%f\")\n",
    "np.savetxt('aie/conv2d_w3/taps_trained.txt',np.reshape(w_all[2].astype(\"bfloat16\"),(-1,1)),fmt=\"%f\")\n",
    "np.savetxt('aie/conv2d_w3/bias_trained.txt',np.reshape(w_all[3].astype(\"bfloat16\"),(-1,1)),fmt=\"%f\")\n",
    "np.savetxt('aie/conv2d_w5/taps_trained.txt',np.reshape(w_all[4].astype(\"bfloat16\"),(-1,1)),fmt=\"%f\")\n",
    "np.savetxt('aie/conv2d_w5/bias_trained.txt',np.reshape(w_all[5].astype(\"bfloat16\"),(-1,1)),fmt=\"%f\")\n",
    "np.savetxt('aie/dense_w7/taps_trained.txt',np.reshape(w_all[6].astype(\"bfloat16\"),(-1,1)),fmt=\"%f\")\n",
    "np.savetxt('aie/dense_w7/bias_trained.txt',np.reshape(w_all[7].astype(\"bfloat16\"),(-1,1)),fmt=\"%f\")\n"
   ]
  }
 ],
 "metadata": {
  "kernelspec": {
   "display_name": "Python 3 (ipykernel)",
   "language": "python",
   "name": "python3"
  },
  "language_info": {
   "codemirror_mode": {
    "name": "ipython",
    "version": 3
   },
   "file_extension": ".py",
   "mimetype": "text/x-python",
   "name": "python",
   "nbconvert_exporter": "python",
   "pygments_lexer": "ipython3",
   "version": "3.10.4"
  }
 },
 "nbformat": 4,
 "nbformat_minor": 5
}
