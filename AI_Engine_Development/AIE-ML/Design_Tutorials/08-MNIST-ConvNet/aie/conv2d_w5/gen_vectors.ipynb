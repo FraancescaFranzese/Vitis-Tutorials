{
 "cells": [
  {
   "cell_type": "markdown",
   "id": "bcdf2452-4c3b-4ce0-b019-cbe980967a1c",
   "metadata": {},
   "source": [
    "# Testbench for `conv2d_w5()`"
   ]
  },
  {
   "cell_type": "code",
   "execution_count": null,
   "id": "9e3cfa4f-6391-490c-80cb-cd4db3b37357",
   "metadata": {},
   "outputs": [],
   "source": [
    "#\n",
    "# Copyright (C) 2024, Advanced Micro Devices, Inc. All rights reserved.\n",
    "# SPDX-License-Identifier: MIT\n",
    "#\n",
    "# Author: Mark Rollins"
   ]
  },
  {
   "cell_type": "code",
   "execution_count": 1,
   "id": "934e0796-0306-4ce9-9a92-598027c75f38",
   "metadata": {},
   "outputs": [
    {
     "name": "stderr",
     "output_type": "stream",
     "text": [
      "2024-10-03 12:36:59.149517: I external/local_xla/xla/tsl/cuda/cudart_stub.cc:32] Could not find cuda drivers on your machine, GPU will not be used.\n",
      "2024-10-03 12:36:59.152781: I external/local_xla/xla/tsl/cuda/cudart_stub.cc:32] Could not find cuda drivers on your machine, GPU will not be used.\n",
      "2024-10-03 12:36:59.160025: E external/local_xla/xla/stream_executor/cuda/cuda_fft.cc:485] Unable to register cuFFT factory: Attempting to register factory for plugin cuFFT when one has already been registered\n",
      "2024-10-03 12:36:59.170798: E external/local_xla/xla/stream_executor/cuda/cuda_dnn.cc:8454] Unable to register cuDNN factory: Attempting to register factory for plugin cuDNN when one has already been registered\n",
      "2024-10-03 12:36:59.174005: E external/local_xla/xla/stream_executor/cuda/cuda_blas.cc:1452] Unable to register cuBLAS factory: Attempting to register factory for plugin cuBLAS when one has already been registered\n",
      "2024-10-03 12:36:59.184199: I tensorflow/core/platform/cpu_feature_guard.cc:210] This TensorFlow binary is optimized to use available CPU instructions in performance-critical operations.\n",
      "To enable the following instructions: AVX2 FMA, in other operations, rebuild TensorFlow with the appropriate compiler flags.\n",
      "2024-10-03 12:37:00.657569: W tensorflow/compiler/tf2tensorrt/utils/py_utils.cc:38] TF-TRT Warning: Could not find TensorRT\n"
     ]
    }
   ],
   "source": [
    "from tensorflow import keras\n",
    "from tensorflow.keras import layers\n",
    "from tensorflow.keras.datasets import mnist\n",
    "import matplotlib.pyplot as plt\n",
    "from tensorflow.keras import mixed_precision\n",
    "import numpy as np\n",
    "import os.path"
   ]
  },
  {
   "cell_type": "markdown",
   "id": "5bdc7e83-3fd0-4fd0-99b5-7938816f0df2",
   "metadata": {},
   "source": [
    "## Layer Definition"
   ]
  },
  {
   "cell_type": "code",
   "execution_count": 2,
   "id": "49534849-a68e-4aed-82d8-4e71837fe541",
   "metadata": {},
   "outputs": [],
   "source": [
    "inputs = keras.Input(shape=(28,28,1),name=\"input\")\n",
    "x1 = layers.Conv2D(filters=16,kernel_size=3,activation=\"relu\",name=\"conv2d_w1\")(inputs)\n",
    "x2 = layers.MaxPooling2D(pool_size=2,name=\"max_pooling2d_w2\")(x1)\n",
    "x3 = layers.Conv2D(filters=64,kernel_size=3,activation=\"relu\",name=\"conv2d_w3\")(x2)\n",
    "outputs = layers.MaxPooling2D(pool_size=2,name=\"max_pooling2d_w4\")(x3)\n",
    "model_stim = keras.Model(inputs=inputs,outputs=outputs,name=\"Stimulus\")\n",
    "w1_taps = np.loadtxt('../conv2d_w1/taps_trained.txt')\n",
    "w1_taps = np.reshape(w1_taps,(3,3,1,16))\n",
    "w1_taps = (w1_taps.astype(\"bfloat16\")).astype(\"float32\")\n",
    "w1_bias = np.loadtxt('../conv2d_w1/bias_trained.txt')\n",
    "w1_bias = (w1_bias.astype(\"bfloat16\")).astype(\"float32\")\n",
    "w3_taps = np.loadtxt('../conv2d_w3/taps_trained.txt')\n",
    "w3_taps = np.reshape(w3_taps,(3,3,16,64))\n",
    "w3_taps = (w3_taps.astype(\"bfloat16\")).astype(\"float32\")\n",
    "w3_bias = np.loadtxt('../conv2d_w3/bias_trained.txt')\n",
    "w3_bias = (w3_bias.astype(\"bfloat16\")).astype(\"float32\")\n",
    "model_stim.set_weights((w1_taps,w1_bias,w3_taps,w3_bias))"
   ]
  },
  {
   "cell_type": "code",
   "execution_count": 3,
   "id": "5e2ceaf7-750a-4984-a165-8da2e1a6bb9f",
   "metadata": {},
   "outputs": [
    {
     "data": {
      "text/html": [
       "<pre style=\"white-space:pre;overflow-x:auto;line-height:normal;font-family:Menlo,'DejaVu Sans Mono',consolas,'Courier New',monospace\"><span style=\"font-weight: bold\">Model: \"Stimulus\"</span>\n",
       "</pre>\n"
      ],
      "text/plain": [
       "\u001b[1mModel: \"Stimulus\"\u001b[0m\n"
      ]
     },
     "metadata": {},
     "output_type": "display_data"
    },
    {
     "data": {
      "text/html": [
       "<pre style=\"white-space:pre;overflow-x:auto;line-height:normal;font-family:Menlo,'DejaVu Sans Mono',consolas,'Courier New',monospace\">┏━━━━━━━━━━━━━━━━━━━━━━━━━━━━━━━━━┳━━━━━━━━━━━━━━━━━━━━━━━━┳━━━━━━━━━━━━━━━┓\n",
       "┃<span style=\"font-weight: bold\"> Layer (type)                    </span>┃<span style=\"font-weight: bold\"> Output Shape           </span>┃<span style=\"font-weight: bold\">       Param # </span>┃\n",
       "┡━━━━━━━━━━━━━━━━━━━━━━━━━━━━━━━━━╇━━━━━━━━━━━━━━━━━━━━━━━━╇━━━━━━━━━━━━━━━┩\n",
       "│ input (<span style=\"color: #0087ff; text-decoration-color: #0087ff\">InputLayer</span>)              │ (<span style=\"color: #00d7ff; text-decoration-color: #00d7ff\">None</span>, <span style=\"color: #00af00; text-decoration-color: #00af00\">28</span>, <span style=\"color: #00af00; text-decoration-color: #00af00\">28</span>, <span style=\"color: #00af00; text-decoration-color: #00af00\">1</span>)      │             <span style=\"color: #00af00; text-decoration-color: #00af00\">0</span> │\n",
       "├─────────────────────────────────┼────────────────────────┼───────────────┤\n",
       "│ conv2d_w1 (<span style=\"color: #0087ff; text-decoration-color: #0087ff\">Conv2D</span>)              │ (<span style=\"color: #00d7ff; text-decoration-color: #00d7ff\">None</span>, <span style=\"color: #00af00; text-decoration-color: #00af00\">26</span>, <span style=\"color: #00af00; text-decoration-color: #00af00\">26</span>, <span style=\"color: #00af00; text-decoration-color: #00af00\">16</span>)     │           <span style=\"color: #00af00; text-decoration-color: #00af00\">160</span> │\n",
       "├─────────────────────────────────┼────────────────────────┼───────────────┤\n",
       "│ max_pooling2d_w2 (<span style=\"color: #0087ff; text-decoration-color: #0087ff\">MaxPooling2D</span>) │ (<span style=\"color: #00d7ff; text-decoration-color: #00d7ff\">None</span>, <span style=\"color: #00af00; text-decoration-color: #00af00\">13</span>, <span style=\"color: #00af00; text-decoration-color: #00af00\">13</span>, <span style=\"color: #00af00; text-decoration-color: #00af00\">16</span>)     │             <span style=\"color: #00af00; text-decoration-color: #00af00\">0</span> │\n",
       "├─────────────────────────────────┼────────────────────────┼───────────────┤\n",
       "│ conv2d_w3 (<span style=\"color: #0087ff; text-decoration-color: #0087ff\">Conv2D</span>)              │ (<span style=\"color: #00d7ff; text-decoration-color: #00d7ff\">None</span>, <span style=\"color: #00af00; text-decoration-color: #00af00\">11</span>, <span style=\"color: #00af00; text-decoration-color: #00af00\">11</span>, <span style=\"color: #00af00; text-decoration-color: #00af00\">64</span>)     │         <span style=\"color: #00af00; text-decoration-color: #00af00\">9,280</span> │\n",
       "├─────────────────────────────────┼────────────────────────┼───────────────┤\n",
       "│ max_pooling2d_w4 (<span style=\"color: #0087ff; text-decoration-color: #0087ff\">MaxPooling2D</span>) │ (<span style=\"color: #00d7ff; text-decoration-color: #00d7ff\">None</span>, <span style=\"color: #00af00; text-decoration-color: #00af00\">5</span>, <span style=\"color: #00af00; text-decoration-color: #00af00\">5</span>, <span style=\"color: #00af00; text-decoration-color: #00af00\">64</span>)       │             <span style=\"color: #00af00; text-decoration-color: #00af00\">0</span> │\n",
       "└─────────────────────────────────┴────────────────────────┴───────────────┘\n",
       "</pre>\n"
      ],
      "text/plain": [
       "┏━━━━━━━━━━━━━━━━━━━━━━━━━━━━━━━━━┳━━━━━━━━━━━━━━━━━━━━━━━━┳━━━━━━━━━━━━━━━┓\n",
       "┃\u001b[1m \u001b[0m\u001b[1mLayer (type)                   \u001b[0m\u001b[1m \u001b[0m┃\u001b[1m \u001b[0m\u001b[1mOutput Shape          \u001b[0m\u001b[1m \u001b[0m┃\u001b[1m \u001b[0m\u001b[1m      Param #\u001b[0m\u001b[1m \u001b[0m┃\n",
       "┡━━━━━━━━━━━━━━━━━━━━━━━━━━━━━━━━━╇━━━━━━━━━━━━━━━━━━━━━━━━╇━━━━━━━━━━━━━━━┩\n",
       "│ input (\u001b[38;5;33mInputLayer\u001b[0m)              │ (\u001b[38;5;45mNone\u001b[0m, \u001b[38;5;34m28\u001b[0m, \u001b[38;5;34m28\u001b[0m, \u001b[38;5;34m1\u001b[0m)      │             \u001b[38;5;34m0\u001b[0m │\n",
       "├─────────────────────────────────┼────────────────────────┼───────────────┤\n",
       "│ conv2d_w1 (\u001b[38;5;33mConv2D\u001b[0m)              │ (\u001b[38;5;45mNone\u001b[0m, \u001b[38;5;34m26\u001b[0m, \u001b[38;5;34m26\u001b[0m, \u001b[38;5;34m16\u001b[0m)     │           \u001b[38;5;34m160\u001b[0m │\n",
       "├─────────────────────────────────┼────────────────────────┼───────────────┤\n",
       "│ max_pooling2d_w2 (\u001b[38;5;33mMaxPooling2D\u001b[0m) │ (\u001b[38;5;45mNone\u001b[0m, \u001b[38;5;34m13\u001b[0m, \u001b[38;5;34m13\u001b[0m, \u001b[38;5;34m16\u001b[0m)     │             \u001b[38;5;34m0\u001b[0m │\n",
       "├─────────────────────────────────┼────────────────────────┼───────────────┤\n",
       "│ conv2d_w3 (\u001b[38;5;33mConv2D\u001b[0m)              │ (\u001b[38;5;45mNone\u001b[0m, \u001b[38;5;34m11\u001b[0m, \u001b[38;5;34m11\u001b[0m, \u001b[38;5;34m64\u001b[0m)     │         \u001b[38;5;34m9,280\u001b[0m │\n",
       "├─────────────────────────────────┼────────────────────────┼───────────────┤\n",
       "│ max_pooling2d_w4 (\u001b[38;5;33mMaxPooling2D\u001b[0m) │ (\u001b[38;5;45mNone\u001b[0m, \u001b[38;5;34m5\u001b[0m, \u001b[38;5;34m5\u001b[0m, \u001b[38;5;34m64\u001b[0m)       │             \u001b[38;5;34m0\u001b[0m │\n",
       "└─────────────────────────────────┴────────────────────────┴───────────────┘\n"
      ]
     },
     "metadata": {},
     "output_type": "display_data"
    },
    {
     "data": {
      "text/html": [
       "<pre style=\"white-space:pre;overflow-x:auto;line-height:normal;font-family:Menlo,'DejaVu Sans Mono',consolas,'Courier New',monospace\"><span style=\"font-weight: bold\"> Total params: </span><span style=\"color: #00af00; text-decoration-color: #00af00\">9,440</span> (36.88 KB)\n",
       "</pre>\n"
      ],
      "text/plain": [
       "\u001b[1m Total params: \u001b[0m\u001b[38;5;34m9,440\u001b[0m (36.88 KB)\n"
      ]
     },
     "metadata": {},
     "output_type": "display_data"
    },
    {
     "data": {
      "text/html": [
       "<pre style=\"white-space:pre;overflow-x:auto;line-height:normal;font-family:Menlo,'DejaVu Sans Mono',consolas,'Courier New',monospace\"><span style=\"font-weight: bold\"> Trainable params: </span><span style=\"color: #00af00; text-decoration-color: #00af00\">9,440</span> (36.88 KB)\n",
       "</pre>\n"
      ],
      "text/plain": [
       "\u001b[1m Trainable params: \u001b[0m\u001b[38;5;34m9,440\u001b[0m (36.88 KB)\n"
      ]
     },
     "metadata": {},
     "output_type": "display_data"
    },
    {
     "data": {
      "text/html": [
       "<pre style=\"white-space:pre;overflow-x:auto;line-height:normal;font-family:Menlo,'DejaVu Sans Mono',consolas,'Courier New',monospace\"><span style=\"font-weight: bold\"> Non-trainable params: </span><span style=\"color: #00af00; text-decoration-color: #00af00\">0</span> (0.00 B)\n",
       "</pre>\n"
      ],
      "text/plain": [
       "\u001b[1m Non-trainable params: \u001b[0m\u001b[38;5;34m0\u001b[0m (0.00 B)\n"
      ]
     },
     "metadata": {},
     "output_type": "display_data"
    }
   ],
   "source": [
    "model_stim.summary()"
   ]
  },
  {
   "cell_type": "code",
   "execution_count": 4,
   "id": "0c57f98d-1999-4b61-a129-e3dd1bd92677",
   "metadata": {},
   "outputs": [],
   "source": [
    "inputs = keras.Input(shape=(5,5,64),name=\"input_layer\")\n",
    "outputs = layers.Conv2D(filters=128,kernel_size=3,activation=\"relu\",name=\"conv2d_w5\")(inputs)\n",
    "model = keras.Model(inputs=inputs,outputs=outputs,name=\"dut\")\n",
    "w5_taps = np.loadtxt('taps_trained.txt')\n",
    "w5_taps = np.reshape(w5_taps,(3,3,64,128))\n",
    "w5_taps = (w5_taps.astype(\"bfloat16\")).astype(\"float32\")\n",
    "w5_bias = np.loadtxt('bias_trained.txt')\n",
    "w5_bias = (w5_bias.astype(\"bfloat16\")).astype(\"float32\")\n",
    "model.set_weights((w5_taps,w5_bias))"
   ]
  },
  {
   "cell_type": "code",
   "execution_count": 5,
   "id": "cd15a0ca-2889-4d90-bd0f-2e76c63c6c19",
   "metadata": {},
   "outputs": [
    {
     "data": {
      "text/html": [
       "<pre style=\"white-space:pre;overflow-x:auto;line-height:normal;font-family:Menlo,'DejaVu Sans Mono',consolas,'Courier New',monospace\"><span style=\"font-weight: bold\">Model: \"dut\"</span>\n",
       "</pre>\n"
      ],
      "text/plain": [
       "\u001b[1mModel: \"dut\"\u001b[0m\n"
      ]
     },
     "metadata": {},
     "output_type": "display_data"
    },
    {
     "data": {
      "text/html": [
       "<pre style=\"white-space:pre;overflow-x:auto;line-height:normal;font-family:Menlo,'DejaVu Sans Mono',consolas,'Courier New',monospace\">┏━━━━━━━━━━━━━━━━━━━━━━━━━━━━━━━━━┳━━━━━━━━━━━━━━━━━━━━━━━━┳━━━━━━━━━━━━━━━┓\n",
       "┃<span style=\"font-weight: bold\"> Layer (type)                    </span>┃<span style=\"font-weight: bold\"> Output Shape           </span>┃<span style=\"font-weight: bold\">       Param # </span>┃\n",
       "┡━━━━━━━━━━━━━━━━━━━━━━━━━━━━━━━━━╇━━━━━━━━━━━━━━━━━━━━━━━━╇━━━━━━━━━━━━━━━┩\n",
       "│ input_layer (<span style=\"color: #0087ff; text-decoration-color: #0087ff\">InputLayer</span>)        │ (<span style=\"color: #00d7ff; text-decoration-color: #00d7ff\">None</span>, <span style=\"color: #00af00; text-decoration-color: #00af00\">5</span>, <span style=\"color: #00af00; text-decoration-color: #00af00\">5</span>, <span style=\"color: #00af00; text-decoration-color: #00af00\">64</span>)       │             <span style=\"color: #00af00; text-decoration-color: #00af00\">0</span> │\n",
       "├─────────────────────────────────┼────────────────────────┼───────────────┤\n",
       "│ conv2d_w5 (<span style=\"color: #0087ff; text-decoration-color: #0087ff\">Conv2D</span>)              │ (<span style=\"color: #00d7ff; text-decoration-color: #00d7ff\">None</span>, <span style=\"color: #00af00; text-decoration-color: #00af00\">3</span>, <span style=\"color: #00af00; text-decoration-color: #00af00\">3</span>, <span style=\"color: #00af00; text-decoration-color: #00af00\">128</span>)      │        <span style=\"color: #00af00; text-decoration-color: #00af00\">73,856</span> │\n",
       "└─────────────────────────────────┴────────────────────────┴───────────────┘\n",
       "</pre>\n"
      ],
      "text/plain": [
       "┏━━━━━━━━━━━━━━━━━━━━━━━━━━━━━━━━━┳━━━━━━━━━━━━━━━━━━━━━━━━┳━━━━━━━━━━━━━━━┓\n",
       "┃\u001b[1m \u001b[0m\u001b[1mLayer (type)                   \u001b[0m\u001b[1m \u001b[0m┃\u001b[1m \u001b[0m\u001b[1mOutput Shape          \u001b[0m\u001b[1m \u001b[0m┃\u001b[1m \u001b[0m\u001b[1m      Param #\u001b[0m\u001b[1m \u001b[0m┃\n",
       "┡━━━━━━━━━━━━━━━━━━━━━━━━━━━━━━━━━╇━━━━━━━━━━━━━━━━━━━━━━━━╇━━━━━━━━━━━━━━━┩\n",
       "│ input_layer (\u001b[38;5;33mInputLayer\u001b[0m)        │ (\u001b[38;5;45mNone\u001b[0m, \u001b[38;5;34m5\u001b[0m, \u001b[38;5;34m5\u001b[0m, \u001b[38;5;34m64\u001b[0m)       │             \u001b[38;5;34m0\u001b[0m │\n",
       "├─────────────────────────────────┼────────────────────────┼───────────────┤\n",
       "│ conv2d_w5 (\u001b[38;5;33mConv2D\u001b[0m)              │ (\u001b[38;5;45mNone\u001b[0m, \u001b[38;5;34m3\u001b[0m, \u001b[38;5;34m3\u001b[0m, \u001b[38;5;34m128\u001b[0m)      │        \u001b[38;5;34m73,856\u001b[0m │\n",
       "└─────────────────────────────────┴────────────────────────┴───────────────┘\n"
      ]
     },
     "metadata": {},
     "output_type": "display_data"
    },
    {
     "data": {
      "text/html": [
       "<pre style=\"white-space:pre;overflow-x:auto;line-height:normal;font-family:Menlo,'DejaVu Sans Mono',consolas,'Courier New',monospace\"><span style=\"font-weight: bold\"> Total params: </span><span style=\"color: #00af00; text-decoration-color: #00af00\">73,856</span> (288.50 KB)\n",
       "</pre>\n"
      ],
      "text/plain": [
       "\u001b[1m Total params: \u001b[0m\u001b[38;5;34m73,856\u001b[0m (288.50 KB)\n"
      ]
     },
     "metadata": {},
     "output_type": "display_data"
    },
    {
     "data": {
      "text/html": [
       "<pre style=\"white-space:pre;overflow-x:auto;line-height:normal;font-family:Menlo,'DejaVu Sans Mono',consolas,'Courier New',monospace\"><span style=\"font-weight: bold\"> Trainable params: </span><span style=\"color: #00af00; text-decoration-color: #00af00\">73,856</span> (288.50 KB)\n",
       "</pre>\n"
      ],
      "text/plain": [
       "\u001b[1m Trainable params: \u001b[0m\u001b[38;5;34m73,856\u001b[0m (288.50 KB)\n"
      ]
     },
     "metadata": {},
     "output_type": "display_data"
    },
    {
     "data": {
      "text/html": [
       "<pre style=\"white-space:pre;overflow-x:auto;line-height:normal;font-family:Menlo,'DejaVu Sans Mono',consolas,'Courier New',monospace\"><span style=\"font-weight: bold\"> Non-trainable params: </span><span style=\"color: #00af00; text-decoration-color: #00af00\">0</span> (0.00 B)\n",
       "</pre>\n"
      ],
      "text/plain": [
       "\u001b[1m Non-trainable params: \u001b[0m\u001b[38;5;34m0\u001b[0m (0.00 B)\n"
      ]
     },
     "metadata": {},
     "output_type": "display_data"
    }
   ],
   "source": [
    "model.summary()"
   ]
  },
  {
   "cell_type": "markdown",
   "id": "0905bc81-af38-4280-ae38-072b9530e565",
   "metadata": {},
   "source": [
    "## Load NMIST Images"
   ]
  },
  {
   "cell_type": "code",
   "execution_count": 6,
   "id": "841caa23-3f4f-455a-b21b-06a3b7cece28",
   "metadata": {},
   "outputs": [
    {
     "name": "stdout",
     "output_type": "stream",
     "text": [
      "\u001b[1m4/4\u001b[0m \u001b[32m━━━━━━━━━━━━━━━━━━━━\u001b[0m\u001b[37m\u001b[0m \u001b[1m0s\u001b[0m 1ms/step \n"
     ]
    }
   ],
   "source": [
    "# Set batch size and # of batches\n",
    "BS=1\n",
    "NB_tst = 4\n",
    "# Load MNIST database:\n",
    "(trn_images,trn_labels), (tst_images,tst_labels) = mnist.load_data()\n",
    "tst_images = tst_images.reshape((10000,28,28,1))\n",
    "tst_images = tst_images[:NB_tst*BS,:,:,:]\n",
    "# Extract usable data:\n",
    "tst_labels = tst_labels[:NB_tst*BS]\n",
    "tst_images = tst_images.astype(\"float32\") / 255\n",
    "tst_inputs = model_stim.predict(tst_images,batch_size=1)\n",
    "tst_inputs = (tst_inputs.astype(\"bfloat16\")).astype(\"float32\")\n",
    "use_inputs = np.zeros((4,5,8,64),dtype=\"float32\");\n",
    "use_inputs[:,:,0:5,:] = tst_inputs"
   ]
  },
  {
   "cell_type": "markdown",
   "id": "53bf2899-8424-4f34-b305-dea322001c7c",
   "metadata": {},
   "source": [
    "## Compute Golden Outputs"
   ]
  },
  {
   "cell_type": "code",
   "execution_count": 7,
   "id": "532b9d20-6698-420d-842a-b5c2ee89c114",
   "metadata": {},
   "outputs": [
    {
     "name": "stdout",
     "output_type": "stream",
     "text": [
      "\u001b[1m4/4\u001b[0m \u001b[32m━━━━━━━━━━━━━━━━━━━━\u001b[0m\u001b[37m\u001b[0m \u001b[1m0s\u001b[0m 709us/step\n"
     ]
    },
    {
     "data": {
      "image/png": "[encoded data removed]",
      "text/plain": [
       "<Figure size 640x480 with 1 Axes>"
      ]
     },
     "metadata": {},
     "output_type": "display_data"
    },
    {
     "data": {
      "image/png": "[encoded data removed]",
      "text/plain": [
       "<Figure size 640x480 with 16 Axes>"
      ]
     },
     "metadata": {},
     "output_type": "display_data"
    }
   ],
   "source": [
    "predict = model.predict(tst_inputs.astype(\"float32\"),batch_size=1)\n",
    "predict = (predict.astype(\"bfloat16\")).astype(\"float32\")\n",
    "fig,ax = plt.subplots(nrows=1,ncols=1)\n",
    "ax.imshow(tst_inputs[0,:,:,0],cmap=plt.cm.binary)\n",
    "fig,ax = plt.subplots(nrows=4,ncols=4)\n",
    "for ii in range(4):\n",
    "    for jj in range(4):\n",
    "        ax[ii,jj].imshow(predict[0,:,:,4*ii+jj],cmap=plt.cm.binary)"
   ]
  },
  {
   "cell_type": "markdown",
   "id": "b588f848-eb35-409a-94c0-9b9bf986383f",
   "metadata": {},
   "source": [
    "## Store Layer Inputs"
   ]
  },
  {
   "cell_type": "code",
   "execution_count": 8,
   "id": "84a1f04f-7eca-4694-906f-245a9001fd25",
   "metadata": {},
   "outputs": [
    {
     "name": "stdout",
     "output_type": "stream",
     "text": [
      "(4, 5, 8, 64)\n"
     ]
    }
   ],
   "source": [
    "# Save input images for testing this layer:\n",
    "print(use_inputs.shape)\n",
    "np.savetxt('data/ifm_i.txt',np.reshape(use_inputs,(-1,4)),fmt='%f %f %f %f')\n",
    "ifm_i = np.reshape(use_inputs,(-1,1))"
   ]
  },
  {
   "cell_type": "markdown",
   "id": "33ae9119-15e3-49ce-9ef8-ffab0c9ec411",
   "metadata": {},
   "source": [
    "## Store Layer Outputs"
   ]
  },
  {
   "cell_type": "code",
   "execution_count": 9,
   "id": "de799f89-ecbe-4480-9dcf-3bb4e5402546",
   "metadata": {},
   "outputs": [
    {
     "name": "stdout",
     "output_type": "stream",
     "text": [
      "(4, 3, 3, 128)\n"
     ]
    }
   ],
   "source": [
    "print(predict.shape)\n",
    "np.savetxt('data/ofm_o.txt',np.reshape(predict,(-1,4)),fmt='%f %f %f %f')\n",
    "ofm_o = np.reshape(predict,(-1,1))"
   ]
  },
  {
   "cell_type": "markdown",
   "id": "d470b695-bd02-4596-84a8-8eee71515fac",
   "metadata": {},
   "source": [
    "## Store Weights & Bias"
   ]
  },
  {
   "cell_type": "code",
   "execution_count": 10,
   "id": "f4c05f8b-7d56-4bba-a01f-da5562f20d39",
   "metadata": {},
   "outputs": [
    {
     "name": "stdout",
     "output_type": "stream",
     "text": [
      "(3, 3, 64, 128)\n"
     ]
    }
   ],
   "source": [
    "print(w5_taps.shape)\n",
    "taps = np.reshape(w5_taps,(3,3,8,8,32,4))\n",
    "taps = np.transpose(taps,(4,2,0,1,3,5))\n",
    "taps0 = np.concatenate((np.reshape(taps[ 0: 8,:,:,:,:,:],(-1,1)),np.reshape(w5_bias[ 0: 32],(-1,1))),axis=0);\n",
    "taps1 = np.concatenate((np.reshape(taps[ 8:16,:,:,:,:,:],(-1,1)),np.reshape(w5_bias[32: 64],(-1,1))),axis=0);\n",
    "taps2 = np.concatenate((np.reshape(taps[16:24,:,:,:,:,:],(-1,1)),np.reshape(w5_bias[64: 96],(-1,1))),axis=0);\n",
    "taps3 = np.concatenate((np.reshape(taps[24:32,:,:,:,:,:],(-1,1)),np.reshape(w5_bias[96:128],(-1,1))),axis=0);\n",
    "np.savetxt('data/wts_0_i.txt',np.reshape(taps0,(-1,4)),fmt='%f %f %f %f')\n",
    "np.savetxt('data/wts_1_i.txt',np.reshape(taps1,(-1,4)),fmt='%f %f %f %f')\n",
    "np.savetxt('data/wts_2_i.txt',np.reshape(taps2,(-1,4)),fmt='%f %f %f %f')\n",
    "np.savetxt('data/wts_3_i.txt',np.reshape(taps3,(-1,4)),fmt='%f %f %f %f')\n",
    "wts_0_i = np.reshape(taps0,(-1,1))\n",
    "wts_1_i = np.reshape(taps1,(-1,1))\n",
    "wts_2_i = np.reshape(taps2,(-1,1))\n",
    "wts_3_i = np.reshape(taps3,(-1,1))"
   ]
  },
  {
   "cell_type": "markdown",
   "id": "d372300b-0c9f-4761-ba98-5306bf76505b",
   "metadata": {},
   "source": [
    "## Run Vitis Functional Simulation"
   ]
  },
  {
   "cell_type": "code",
   "execution_count": 11,
   "id": "238c1451-f2fb-42c4-be18-059ec63d8f23",
   "metadata": {},
   "outputs": [
    {
     "name": "stdout",
     "output_type": "stream",
     "text": [
      "Loaded AIEGraph\n"
     ]
    }
   ],
   "source": [
    "import os\n",
    "import vfs\n",
    "conv2d_w5_graph = vfs.aieGraph(\n",
    "    input_file='conv2d_w5_app.cpp',\n",
    "    part=\"xcve2802-vsvh1760-2MP-e-S\",\n",
    "    include_paths=['./','../mnist','../wts_init'])\n",
    "act_o = conv2d_w5_graph.run(vfs.array(ifm_i[:,0],vfs.bfloat16),\n",
    "                            vfs.array(wts_0_i[:,0],vfs.bfloat16),\n",
    "                            vfs.array(wts_1_i[:,0],vfs.bfloat16),\n",
    "                            vfs.array(wts_2_i[:,0],vfs.bfloat16),\n",
    "                            vfs.array(wts_3_i[:,0],vfs.bfloat16))"
   ]
  },
  {
   "cell_type": "code",
   "execution_count": 12,
   "id": "6dfa7d1e-5c7f-4c24-bbd6-960947bb033b",
   "metadata": {},
   "outputs": [
    {
     "name": "stdout",
     "output_type": "stream",
     "text": [
      "(12288,)\n"
     ]
    },
    {
     "data": {
      "image/png": "[encoded data removed]",
      "text/plain": [
       "<Figure size 640x480 with 1 Axes>"
      ]
     },
     "metadata": {},
     "output_type": "display_data"
    }
   ],
   "source": [
    "act_o = np.array(act_o)\n",
    "print(act_o.shape)\n",
    "act_o = np.reshape(act_o,(4,3,8,128))\n",
    "ofm_o = np.reshape(ofm_o,(4,3,3,128))\n",
    "act_o = act_o[:,:,:3,:]   # Remove zero pad\n",
    "err = np.reshape(ofm_o-act_o,(-1,1))\n",
    "tmp = np.reshape(ofm_o,(-1,1))\n",
    "lvl = np.max(np.abs(tmp))\n",
    "lvl_min = -(0.5**8)*lvl*np.ones((len(tmp),1))\n",
    "lvl_max = +(0.5**8)*lvl*np.ones((len(tmp),1))\n",
    "tt = np.arange(0,len(tmp))\n",
    "plt.plot(tt,err,tt,lvl_min,tt,lvl_max)\n",
    "plt.title(\"Pixel Error\")\n",
    "plt.show()"
   ]
  },
  {
   "cell_type": "code",
   "execution_count": 13,
   "id": "165bdefb-0215-4ddc-b084-acc87a8d740e",
   "metadata": {},
   "outputs": [
    {
     "data": {
      "image/png": "[encoded data removed]",
      "text/plain": [
       "<Figure size 640x480 with 4 Axes>"
      ]
     },
     "metadata": {},
     "output_type": "display_data"
    }
   ],
   "source": [
    "fig,ax = plt.subplots(nrows=2,ncols=2)\n",
    "for ii in range(2):\n",
    "    ax[ii,0].set(title=\"Model\")\n",
    "    ax[ii,1].set(title=\"AIE\")\n",
    "    ax[ii,0].imshow(ofm_o[0,:,:,ii].astype(\"float32\"),cmap=plt.cm.binary)\n",
    "    ax[ii,1].imshow(act_o[0,:,:,ii].astype(\"float32\"),cmap=plt.cm.binary)"
   ]
  }
 ],
 "metadata": {
  "kernelspec": {
   "display_name": "Python 3 (ipykernel)",
   "language": "python",
   "name": "python3"
  },
  "language_info": {
   "codemirror_mode": {
    "name": "ipython",
    "version": 3
   },
   "file_extension": ".py",
   "mimetype": "text/x-python",
   "name": "python",
   "nbconvert_exporter": "python",
   "pygments_lexer": "ipython3",
   "version": "3.10.4"
  }
 },
 "nbformat": 4,
 "nbformat_minor": 5
}
